{
 "cells": [
  {
   "cell_type": "code",
   "execution_count": 1,
   "metadata": {},
   "outputs": [],
   "source": [
    "import sys\n",
    "sys.path.insert(0, \"../\")"
   ]
  },
  {
   "cell_type": "code",
   "execution_count": 2,
   "metadata": {},
   "outputs": [
    {
     "name": "stderr",
     "output_type": "stream",
     "text": [
      "c:\\Users\\DELL\\anaconda3\\envs\\py3.10\\lib\\site-packages\\tqdm\\auto.py:21: TqdmWarning: IProgress not found. Please update jupyter and ipywidgets. See https://ipywidgets.readthedocs.io/en/stable/user_install.html\n",
      "  from .autonotebook import tqdm as notebook_tqdm\n"
     ]
    }
   ],
   "source": [
    "from transformers import CLIPProcessor, CLIPModel\n",
    "model = CLIPModel.from_pretrained(\"openai/clip-vit-base-patch32\")\n",
    "processor = CLIPProcessor.from_pretrained(\"openai/clip-vit-base-patch32\")"
   ]
  },
  {
   "cell_type": "code",
   "execution_count": 5,
   "metadata": {},
   "outputs": [],
   "source": [
    "import torch\n",
    "def success_score(inputs):\n",
    "    with torch.inference_mode():\n",
    "        outputs = model(**inputs)\n",
    "    logits_per_text = outputs.logits_per_text\n",
    "    logits_per_image = outputs.logits_per_image\n",
    "    text_probs = logits_per_text.softmax(dim=1)\n",
    "    image_probs = logits_per_image.softmax(dim=1)\n",
    "    text_score = False\n",
    "    img_score = False\n",
    "    group_score = False \n",
    "    if (text_probs[0][0]>text_probs[1][0]) and (text_probs[1][1]>text_probs[0][1]):\n",
    "        text_score = True\n",
    "    if (image_probs[0][0]>image_probs[1][0]) and (image_probs[1][1]>image_probs[0][1]):\n",
    "        img_score = True\n",
    "    if text_score and img_score: \n",
    "        group_score = True\n",
    "    return text_score, img_score, group_score"
   ]
  },
  {
   "cell_type": "code",
   "execution_count": 7,
   "metadata": {},
   "outputs": [],
   "source": [
    "from source.wino_loader import extract_captions_winoground\n",
    "winoground = extract_captions_winoground(dir = \"../dataset/examples.jsonl\")\n",
    "\n",
    "from PIL import Image\n",
    "hit_score = 0\n",
    "hit_score_text =0 \n",
    "hit_score_img = 0 \n",
    "for i in range(len(winoground['caption_0'])):\n",
    "    images =[]\n",
    "    texts =[]\n",
    "    img1 = \"../dataset/images/\"+ winoground[\"image_0\"][i]+\".png\"\n",
    "    img2 = \"../dataset/images/\"+ winoground[\"image_1\"][i]+\".png\"\n",
    "    images.append(Image.open(img1))\n",
    "    images.append(Image.open(img2))\n",
    "    texts. append(winoground[\"caption_0\"][i])\n",
    "    texts. append(winoground[\"caption_1\"][i])\n",
    "    inputs = processor(text=texts, images=images, return_tensors=\"pt\", padding=True)\n",
    "    text_score, img_score, group_score =success_score(inputs)\n",
    "    if group_score:\n",
    "        hit_score +=1\n",
    "    if text_score:\n",
    "        hit_score_text +=1\n",
    "    if img_score:\n",
    "        hit_score_img +=1\n",
    "    del images, texts\n"
   ]
  },
  {
   "cell_type": "code",
   "execution_count": 8,
   "metadata": {},
   "outputs": [
    {
     "name": "stdout",
     "output_type": "stream",
     "text": [
      "257 257 257\n",
      "400\n",
      "Hit Rate (Percentage): 0.35750000000000004\n"
     ]
    }
   ],
   "source": [
    "print(hit_score_text, hit_score_img, hit_score)\n",
    "print(len(winoground['caption_0']))\n",
    "print(f\"Hit Rate (Percentage): {1 - hit_score/(len(winoground['caption_0']))}\")"
   ]
  },
  {
   "attachments": {},
   "cell_type": "markdown",
   "metadata": {},
   "source": [
    "### THIS PORTION CONTAINS THE CODE TO COMPARE THE PERFORAMNCE OF CLIP MODEL WITH WINOGROUND AND MODIFIED WINOGROUND DATASET ###\n",
    "*MODIFIED CAPTIONS = 50*"
   ]
  },
  {
   "cell_type": "code",
   "execution_count": 1,
   "metadata": {},
   "outputs": [
    {
     "name": "stderr",
     "output_type": "stream",
     "text": [
      "c:\\Users\\DELL\\anaconda3\\envs\\py3.10\\lib\\site-packages\\tqdm\\auto.py:21: TqdmWarning: IProgress not found. Please update jupyter and ipywidgets. See https://ipywidgets.readthedocs.io/en/stable/user_install.html\n",
      "  from .autonotebook import tqdm as notebook_tqdm\n"
     ]
    },
    {
     "name": "stdout",
     "output_type": "stream",
     "text": [
      "Hit Ratio for Winoground: 0.64\n",
      "Hit Ratio for Modified Winoground: 0.76\n",
      "Winoground Hit Score: 32\n",
      "Modified Winoground Hit Score: 38\n",
      "No. of Samples where BOTH the WINOGROUND captions and MODIFIED pairs are identified INCORRECTLY: 6\n",
      "No. of Samples where the WINOGROUND captions are indentified INCORRECTLY but MODIFIED pairs are identified CORRECTLY: 12\n",
      "No. of Samples where the WINOGROUND captions are indentified CORRECTLY but MODIFIED pairs are identified INCORRECTLY: 6\n",
      "No. of Samples where both the WINOGROUND captions and MODIFIED pairs are identified CORRECTLY: 26\n"
     ]
    }
   ],
   "source": [
    "import sys\n",
    "sys.path.insert(0, \"../\")\n",
    "\n",
    "\n",
    "from transformers import CLIPProcessor, CLIPModel\n",
    "model = CLIPModel.from_pretrained(\"openai/clip-vit-base-patch32\")\n",
    "processor = CLIPProcessor.from_pretrained(\"openai/clip-vit-base-patch32\")\n",
    "\n",
    "n_samples=50\n",
    "\n",
    "import torch\n",
    "def success_score(inputs):\n",
    "    with torch.inference_mode():\n",
    "        outputs = model(**inputs)\n",
    "    logits_per_text = outputs.logits_per_text\n",
    "    logits_per_image = outputs.logits_per_image\n",
    "    text_probs = logits_per_text.softmax(dim=1)\n",
    "    image_probs = logits_per_image.softmax(dim=1)\n",
    "    text_score = False\n",
    "    img_score = False\n",
    "    group_score = False \n",
    "    if (text_probs[0][0]>text_probs[1][0]) and (text_probs[1][1]>text_probs[0][1]):\n",
    "        text_score = True\n",
    "    if (image_probs[0][0]>image_probs[1][0]) and (image_probs[1][1]>image_probs[0][1]):\n",
    "        img_score = True\n",
    "    if text_score and img_score: \n",
    "        group_score = True\n",
    "    return text_score, img_score, group_score\n",
    "\n",
    "\n",
    "\n",
    "from source.wino_loader import extract_edited_captions_winoground\n",
    "modified_winoground = extract_edited_captions_winoground(dir=\"../dataset/edited_captions.xls\", edited_captions=n_samples)\n",
    "\n",
    "from PIL import Image\n",
    "wino_data_hit_score = 0\n",
    "wino_data_hit_score_text =0 \n",
    "wino_data_hit_score_img = 0 \n",
    "modified_data_hit_score = 0\n",
    "modified_data_hit_score_text =0 \n",
    "modified_data_hit_score_img = 0\n",
    "##----- compare wino and modified outcome-------\n",
    "wino_0_modified_0 = 0\n",
    "wino_0_modified_1 = 0\n",
    "wino_1_modified_0 = 0\n",
    "wino_1_modified_1 = 0\n",
    "for i in range(len(modified_winoground['true_caption_0'])):\n",
    "    images =[]\n",
    "    texts =[]\n",
    "    img1 = \"../dataset/images/\"+ modified_winoground[\"image_0\"][i]+\".png\"\n",
    "    img2 = \"../dataset/images/\"+ modified_winoground[\"image_1\"][i]+\".png\"\n",
    "    images.append(Image.open(img1))\n",
    "    images.append(Image.open(img2))\n",
    "    texts. append(modified_winoground[\"true_caption_0\"][i])\n",
    "    texts. append(modified_winoground[\"true_caption_1\"][i])\n",
    "    inputs = processor(text=texts, images=images, return_tensors=\"pt\", padding=True)\n",
    "    wino_text_score, wino_img_score, wino_group_score =success_score(inputs)\n",
    "    if wino_group_score:\n",
    "        wino_data_hit_score +=1\n",
    "    if wino_text_score:\n",
    "        wino_data_hit_score_text +=1\n",
    "    if wino_img_score:\n",
    "        wino_data_hit_score_img +=1\n",
    "    texts =[]\n",
    "    texts. append(modified_winoground[\"modified_caption_0\"][i])\n",
    "    texts. append(modified_winoground[\"modified_caption_1\"][i])\n",
    "    inputs = processor(text=texts, images=images, return_tensors=\"pt\", padding=True)\n",
    "    modified_text_score, modified_img_score, modified_group_score =success_score(inputs)\n",
    "    if modified_group_score:\n",
    "        modified_data_hit_score +=1\n",
    "    if modified_text_score:\n",
    "        modified_data_hit_score_text +=1\n",
    "    if modified_img_score:\n",
    "        modified_data_hit_score_img +=1\n",
    "\n",
    "\n",
    "    if wino_group_score==False and modified_group_score==False:\n",
    "        wino_0_modified_0 +=1\n",
    "    elif wino_group_score==False and modified_group_score==True:\n",
    "        wino_0_modified_1 +=1\n",
    "    elif wino_group_score==True and modified_group_score==False:\n",
    "        wino_1_modified_0 +=1\n",
    "    elif wino_group_score==True and modified_group_score==True:\n",
    "        wino_1_modified_1 +=1\n",
    "    del images, texts\n",
    "\n",
    "print(f\"Hit Ratio for Winoground: {wino_data_hit_score/n_samples}\")\n",
    "print(f\"Hit Ratio for Modified Winoground: {modified_data_hit_score/n_samples}\")\n",
    "print(f\"Winoground Hit Score: {wino_data_hit_score}\")\n",
    "print(f\"Modified Winoground Hit Score: {modified_data_hit_score}\")\n",
    "print(f\"No. of Samples where BOTH the WINOGROUND captions and MODIFIED pairs are identified INCORRECTLY: {wino_0_modified_0}\")\n",
    "print(f\"No. of Samples where the WINOGROUND captions are indentified INCORRECTLY but MODIFIED pairs are identified CORRECTLY: {wino_0_modified_1}\")\n",
    "print(f\"No. of Samples where the WINOGROUND captions are indentified CORRECTLY but MODIFIED pairs are identified INCORRECTLY: {wino_1_modified_0}\")\n",
    "print(f\"No. of Samples where both the WINOGROUND captions and MODIFIED pairs are identified CORRECTLY: {wino_1_modified_1}\")"
   ]
  },
  {
   "attachments": {},
   "cell_type": "markdown",
   "metadata": {},
   "source": [
    "### THIS PORTION CONTAINS THE CODE TO COMPARE THE PERFORAMNCE OF CLIP MODEL WITH WINOGROUND AND MODIFIED WINOGROUND DATASET ###\n",
    "*MODIFIED CAPTIONS = 100*"
   ]
  },
  {
   "cell_type": "code",
   "execution_count": 1,
   "metadata": {},
   "outputs": [
    {
     "name": "stderr",
     "output_type": "stream",
     "text": [
      "c:\\Users\\DELL\\anaconda3\\envs\\py3.10\\lib\\site-packages\\tqdm\\auto.py:21: TqdmWarning: IProgress not found. Please update jupyter and ipywidgets. See https://ipywidgets.readthedocs.io/en/stable/user_install.html\n",
      "  from .autonotebook import tqdm as notebook_tqdm\n"
     ]
    },
    {
     "name": "stdout",
     "output_type": "stream",
     "text": [
      "Hit Ratio for Winoground: 0.66\n",
      "Hit Ratio for Modified Winoground: 0.82\n",
      "Winoground Hit Score: 66\n",
      "Modified Winoground Hit Score: 82\n",
      "No. of Samples where BOTH the WINOGROUND captions and MODIFIED pairs are identified INCORRECTLY: 9\n",
      "No. of Samples where the WINOGROUND captions are indentified INCORRECTLY but MODIFIED pairs are identified CORRECTLY: 25\n",
      "No. of Samples where the WINOGROUND captions are indentified CORRECTLY but MODIFIED pairs are identified INCORRECTLY: 9\n",
      "No. of Samples where both the WINOGROUND captions and MODIFIED pairs are identified CORRECTLY: 57\n"
     ]
    }
   ],
   "source": [
    "import sys\n",
    "sys.path.insert(0, \"../\")\n",
    "\n",
    "\n",
    "from transformers import CLIPProcessor, CLIPModel\n",
    "model = CLIPModel.from_pretrained(\"openai/clip-vit-base-patch32\")\n",
    "processor = CLIPProcessor.from_pretrained(\"openai/clip-vit-base-patch32\")\n",
    "\n",
    "n_samples=100\n",
    "\n",
    "import torch\n",
    "def success_score(inputs):\n",
    "    with torch.inference_mode():\n",
    "        outputs = model(**inputs)\n",
    "    logits_per_text = outputs.logits_per_text\n",
    "    logits_per_image = outputs.logits_per_image\n",
    "    text_probs = logits_per_text.softmax(dim=1)\n",
    "    image_probs = logits_per_image.softmax(dim=1)\n",
    "    text_score = False\n",
    "    img_score = False\n",
    "    group_score = False \n",
    "    if (text_probs[0][0]>text_probs[1][0]) and (text_probs[1][1]>text_probs[0][1]):\n",
    "        text_score = True\n",
    "    if (image_probs[0][0]>image_probs[1][0]) and (image_probs[1][1]>image_probs[0][1]):\n",
    "        img_score = True\n",
    "    if text_score and img_score: \n",
    "        group_score = True\n",
    "    return text_score, img_score, group_score\n",
    "\n",
    "\n",
    "\n",
    "from source.wino_loader import extract_edited_captions_winoground\n",
    "modified_winoground = extract_edited_captions_winoground(dir=\"../dataset/edited_captions.xls\", edited_captions=n_samples)\n",
    "\n",
    "from PIL import Image\n",
    "wino_data_hit_score = 0\n",
    "wino_data_hit_score_text =0 \n",
    "wino_data_hit_score_img = 0 \n",
    "modified_data_hit_score = 0\n",
    "modified_data_hit_score_text =0 \n",
    "modified_data_hit_score_img = 0\n",
    "##----- compare wino and modified outcome-------\n",
    "wino_0_modified_0 = 0\n",
    "wino_0_modified_1 = 0\n",
    "wino_1_modified_0 = 0\n",
    "wino_1_modified_1 = 0\n",
    "for i in range(len(modified_winoground['true_caption_0'])):\n",
    "    images =[]\n",
    "    texts =[]\n",
    "    img1 = \"../dataset/images/\"+ modified_winoground[\"image_0\"][i]+\".png\"\n",
    "    img2 = \"../dataset/images/\"+ modified_winoground[\"image_1\"][i]+\".png\"\n",
    "    images.append(Image.open(img1))\n",
    "    images.append(Image.open(img2))\n",
    "    texts. append(modified_winoground[\"true_caption_0\"][i])\n",
    "    texts. append(modified_winoground[\"true_caption_1\"][i])\n",
    "    inputs = processor(text=texts, images=images, return_tensors=\"pt\", padding=True)\n",
    "    wino_text_score, wino_img_score, wino_group_score =success_score(inputs)\n",
    "    if wino_group_score:\n",
    "        wino_data_hit_score +=1\n",
    "    if wino_text_score:\n",
    "        wino_data_hit_score_text +=1\n",
    "    if wino_img_score:\n",
    "        wino_data_hit_score_img +=1\n",
    "    texts =[]\n",
    "    texts. append(modified_winoground[\"modified_caption_0\"][i])\n",
    "    texts. append(modified_winoground[\"modified_caption_1\"][i])\n",
    "    inputs = processor(text=texts, images=images, return_tensors=\"pt\", padding=True)\n",
    "    modified_text_score, modified_img_score, modified_group_score =success_score(inputs)\n",
    "    if modified_group_score:\n",
    "        modified_data_hit_score +=1\n",
    "    if modified_text_score:\n",
    "        modified_data_hit_score_text +=1\n",
    "    if modified_img_score:\n",
    "        modified_data_hit_score_img +=1\n",
    "\n",
    "\n",
    "    if wino_group_score==False and modified_group_score==False:\n",
    "        wino_0_modified_0 +=1\n",
    "    elif wino_group_score==False and modified_group_score==True:\n",
    "        wino_0_modified_1 +=1\n",
    "    elif wino_group_score==True and modified_group_score==False:\n",
    "        wino_1_modified_0 +=1\n",
    "    elif wino_group_score==True and modified_group_score==True:\n",
    "        wino_1_modified_1 +=1\n",
    "    del images, texts\n",
    "\n",
    "print(f\"Hit Ratio for Winoground: {wino_data_hit_score/n_samples}\")\n",
    "print(f\"Hit Ratio for Modified Winoground: {modified_data_hit_score/n_samples}\")\n",
    "print(f\"Winoground Hit Score: {wino_data_hit_score}\")\n",
    "print(f\"Modified Winoground Hit Score: {modified_data_hit_score}\")\n",
    "print(f\"No. of Samples where BOTH the WINOGROUND captions and MODIFIED pairs are identified INCORRECTLY: {wino_0_modified_0}\")\n",
    "print(f\"No. of Samples where the WINOGROUND captions are indentified INCORRECTLY but MODIFIED pairs are identified CORRECTLY: {wino_0_modified_1}\")\n",
    "print(f\"No. of Samples where the WINOGROUND captions are indentified CORRECTLY but MODIFIED pairs are identified INCORRECTLY: {wino_1_modified_0}\")\n",
    "print(f\"No. of Samples where both the WINOGROUND captions and MODIFIED pairs are identified CORRECTLY: {wino_1_modified_1}\")"
   ]
  },
  {
   "cell_type": "code",
   "execution_count": 11,
   "metadata": {},
   "outputs": [
    {
     "data": {
      "text/plain": [
       "dict"
      ]
     },
     "execution_count": 11,
     "metadata": {},
     "output_type": "execute_result"
    }
   ],
   "source": [
    "type(winoground)"
   ]
  },
  {
   "cell_type": "code",
   "execution_count": 1,
   "metadata": {},
   "outputs": [
    {
     "name": "stderr",
     "output_type": "stream",
     "text": [
      "c:\\Users\\DELL\\anaconda3\\envs\\py3.10\\lib\\site-packages\\tqdm\\auto.py:21: TqdmWarning: IProgress not found. Please update jupyter and ipywidgets. See https://ipywidgets.readthedocs.io/en/stable/user_install.html\n",
      "  from .autonotebook import tqdm as notebook_tqdm\n"
     ]
    }
   ],
   "source": [
    "from PIL import Image\n",
    "import requests\n",
    "import torch \n",
    "from transformers import CLIPProcessor, CLIPModel\n",
    "model = CLIPModel.from_pretrained(\"openai/clip-vit-base-patch32\")\n",
    "processor = CLIPProcessor.from_pretrained(\"openai/clip-vit-base-patch32\")\n",
    "\n"
   ]
  },
  {
   "cell_type": "code",
   "execution_count": 2,
   "metadata": {},
   "outputs": [
    {
     "name": "stdout",
     "output_type": "stream",
     "text": [
      "tensor([[0.3177, 0.6823]])\n",
      "-------------------\n",
      "tensor([[1.],\n",
      "        [1.]])\n"
     ]
    }
   ],
   "source": [
    "image = [Image.open('../dataset/images/ex_0_img_0.png')]\n",
    "inputs = processor(text=[\"an old person kisses a young person\",\"a young person kisses an old person\"], images=image, return_tensors=\"pt\", padding=True)\n",
    "\n",
    "with torch.inference_mode():\n",
    "    outputs = model(**inputs)\n",
    "\n",
    "logits_per_image = outputs.logits_per_image\n",
    "logits_per_text = outputs.logits_per_text\n",
    "print(logits_per_image.softmax(dim=1))\n",
    "print(\"-------------------\")\n",
    "print(logits_per_text.softmax(dim=1))"
   ]
  },
  {
   "cell_type": "code",
   "execution_count": 3,
   "metadata": {},
   "outputs": [
    {
     "name": "stdout",
     "output_type": "stream",
     "text": [
      "tensor([[0.3177, 0.6823],\n",
      "        [0.2370, 0.7630]])\n",
      "-------------------\n",
      "tensor([[0.7697, 0.2303],\n",
      "        [0.6904, 0.3096]])\n"
     ]
    }
   ],
   "source": [
    "image = [Image.open('../dataset/images/ex_0_img_0.png')]\n",
    "image = [Image.open('../dataset/images/ex_0_img_0.png'), Image.open('../dataset/images/ex_0_img_1.png')]\n",
    "inputs = processor(text=[\"an old person kisses a young person\",\"a young person kisses an old person\"], images=image, return_tensors=\"pt\", padding=True)\n",
    "with torch.inference_mode():\n",
    "    outputs = model(**inputs)\n",
    "\n",
    "logits_per_image = outputs.logits_per_image\n",
    "logits_per_text = outputs.logits_per_text\n",
    "print(logits_per_image.softmax(dim=1))\n",
    "print(\"-------------------\")\n",
    "print(logits_per_text.softmax(dim=1))"
   ]
  },
  {
   "cell_type": "code",
   "execution_count": 4,
   "metadata": {},
   "outputs": [
    {
     "name": "stdout",
     "output_type": "stream",
     "text": [
      "tensor([[0.3177, 0.6823],\n",
      "        [0.2370, 0.7630],\n",
      "        [0.1470, 0.8530]])\n",
      "-------------------\n",
      "tensor([[7.6968e-01, 2.3027e-01, 5.1947e-05],\n",
      "        [6.9031e-01, 3.0957e-01, 1.2595e-04]])\n"
     ]
    }
   ],
   "source": [
    "image = [Image.open('../dataset/images/ex_0_img_0.png')]\n",
    "image = [Image.open('../dataset/images/ex_0_img_0.png'), Image.open('../dataset/images/ex_0_img_1.png'), Image.open('../dataset/images/ex_1_img_0.png')]\n",
    "inputs = processor(text=[\"an old person kisses a young person\",\"a young person kisses an old person\"], images=image, return_tensors=\"pt\", padding=True)\n",
    "with torch.inference_mode():\n",
    "    outputs = model(**inputs)\n",
    "\n",
    "logits_per_image = outputs.logits_per_image\n",
    "logits_per_text = outputs.logits_per_text\n",
    "print(logits_per_image.softmax(dim=1))\n",
    "print(\"-------------------\")\n",
    "print(logits_per_text.softmax(dim=1))"
   ]
  }
 ],
 "metadata": {
  "kernelspec": {
   "display_name": "py3.10",
   "language": "python",
   "name": "python3"
  },
  "language_info": {
   "codemirror_mode": {
    "name": "ipython",
    "version": 3
   },
   "file_extension": ".py",
   "mimetype": "text/x-python",
   "name": "python",
   "nbconvert_exporter": "python",
   "pygments_lexer": "ipython3",
   "version": "3.10.11"
  },
  "orig_nbformat": 4
 },
 "nbformat": 4,
 "nbformat_minor": 2
}
