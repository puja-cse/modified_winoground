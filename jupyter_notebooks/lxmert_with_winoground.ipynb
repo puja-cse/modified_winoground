{
 "cells": [
  {
   "cell_type": "code",
   "execution_count": 1,
   "metadata": {},
   "outputs": [],
   "source": [
    "import sys\n",
    "sys.path.insert(0, \"../\")\n"
   ]
  },
  {
   "cell_type": "code",
   "execution_count": 2,
   "metadata": {},
   "outputs": [
    {
     "name": "stdout",
     "output_type": "stream",
     "text": [
      "lxmert_utils already exists\n",
      "modeling_frcnn already exists\n",
      "processing_image already exists\n"
     ]
    },
    {
     "name": "stderr",
     "output_type": "stream",
     "text": [
      "c:\\Users\\DELL\\anaconda3\\envs\\py3.10\\lib\\site-packages\\tqdm\\auto.py:21: TqdmWarning: IProgress not found. Please update jupyter and ipywidgets. See https://ipywidgets.readthedocs.io/en/stable/user_install.html\n",
      "  from .autonotebook import tqdm as notebook_tqdm\n"
     ]
    }
   ],
   "source": [
    "from pathlib import Path \n",
    "import requests\n",
    "\n",
    "#Download helper function from PyTorch repo\n",
    "if Path('utils.py').is_file():\n",
    "    print(\"lxmert_utils already exists\")\n",
    "else:\n",
    "    request = requests.get(\"https://raw.githubusercontent.com/huggingface/transformers/main/examples/research_projects/lxmert/utils.py\")\n",
    "    with open(\"utils.py\", \"wb\") as f:\n",
    "        f.write(request.content)\n",
    "\n",
    "if Path('modeling_frcnn.py').is_file():\n",
    "    print(\"modeling_frcnn already exists\")\n",
    "else:\n",
    "    request = requests.get(\"https://raw.githubusercontent.com/huggingface/transformers/main/examples/research_projects/lxmert/modeling_frcnn.py\")\n",
    "    with open(\"modeling_frcnn.py\", \"wb\") as f:\n",
    "        f.write(request.content)\n",
    "\n",
    "if Path('processing_image.py').is_file():\n",
    "    print(\"processing_image already exists\")\n",
    "else:\n",
    "    request = requests.get(\"https://raw.githubusercontent.com/huggingface/transformers/main/examples/research_projects/lxmert/processing_image.py\")\n",
    "    with open(\"processing_image.py\", \"wb\") as f:\n",
    "        f.write(request.content)\n",
    "from modeling_frcnn import GeneralizedRCNN"
   ]
  },
  {
   "cell_type": "code",
   "execution_count": 3,
   "metadata": {},
   "outputs": [],
   "source": [
    "from utils import Config\n",
    "import transformers\n",
    "from processing_image import Preprocess\n",
    "from modeling_frcnn import GeneralizedRCNN\n",
    "from transformers import LxmertTokenizer, LxmertForPreTraining\n",
    "import torch\n",
    "import numpy as np"
   ]
  },
  {
   "attachments": {},
   "cell_type": "markdown",
   "metadata": {},
   "source": [
    "Load necessary functions for images preprocessing to generate image features and bounding boxes"
   ]
  },
  {
   "cell_type": "code",
   "execution_count": 4,
   "metadata": {},
   "outputs": [
    {
     "name": "stdout",
     "output_type": "stream",
     "text": [
      "loading configuration file cache\n",
      "loading weights file https://cdn.huggingface.co/unc-nlp/frcnn-vg-finetuned/pytorch_model.bin from cache at C:\\Users\\DELL/.cache\\torch\\transformers\\57f6df6abe353be2773f2700159c65615babf39ab5b48114d2b49267672ae10f.77b59256a4cf8343ae0f923246a81489fc8d82f98d082edc2d2037c977c0d9d0\n",
      "All model checkpoint weights were used when initializing GeneralizedRCNN.\n",
      "\n",
      "All the weights of GeneralizedRCNN were initialized from the model checkpoint at unc-nlp/frcnn-vg-finetuned.\n",
      "If your task is similar to the task the model of the checkpoint was trained on, you can already use GeneralizedRCNN for predictions without further training.\n"
     ]
    }
   ],
   "source": [
    "config_frcnn = Config.from_pretrained(\"unc-nlp/frcnn-vg-finetuned\")\n",
    "frcnnn = GeneralizedRCNN.from_pretrained(\"unc-nlp/frcnn-vg-finetuned\", config=config_frcnn)\n",
    "image_preprocess = Preprocess(config_frcnn)\n",
    "#device = \"cuda\" if torch.cuda.is_available() else \"cpu\"\n",
    "device = 'cpu'"
   ]
  },
  {
   "cell_type": "code",
   "execution_count": 5,
   "metadata": {},
   "outputs": [],
   "source": [
    "tokenizer = LxmertTokenizer.from_pretrained('unc-nlp/lxmert-base-uncased')\n",
    "model = LxmertForPreTraining.from_pretrained('unc-nlp/lxmert-base-uncased')"
   ]
  },
  {
   "cell_type": "code",
   "execution_count": 6,
   "metadata": {},
   "outputs": [],
   "source": [
    "def get_matching_score(img, caption):\n",
    "    images, sizes, scales_yx = image_preprocess(img)\n",
    "    output_dict = frcnnn(\n",
    "        images,\n",
    "        sizes,\n",
    "        scales_yx=scales_yx,\n",
    "        padding=\"max_detections\",\n",
    "        max_detections=config_frcnn.max_detections,\n",
    "        return_tensors=\"pt\",\n",
    "    )\n",
    "    normalized_boxes = output_dict.get(\"normalized_boxes\")\n",
    "    features = output_dict.get(\"roi_features\")\n",
    "    tokenized = tokenizer(caption, padding=True)\n",
    "    model_input={}\n",
    "    model_input['input_ids'] = torch.tensor(tokenized['input_ids'], dtype=torch.long)[None,:].to(device)\n",
    "    model_input['attention_mask'] = torch.tensor(tokenized['attention_mask'])[None,:].to(device)\n",
    "    model_input['token_type_ids'] = torch.tensor(tokenized['token_type_ids'], dtype=torch.long)[None,:].to(device)\n",
    "    model_input['visual_feats'] = features\n",
    "    model_input['visual_pos'] = normalized_boxes\n",
    "    with torch.inference_mode():\n",
    "        output = model(**model_input, output_attentions=True)\n",
    "    del model_input, normalized_boxes, features, output_dict, images, sizes, scales_yx\n",
    "    itm_scores = output.cross_relationship_score[0] \n",
    "    itm_scores_prob = torch.nn.functional.softmax(itm_scores, dim=0)\n",
    "    return itm_scores_prob[1].item()"
   ]
  },
  {
   "cell_type": "code",
   "execution_count": 7,
   "metadata": {},
   "outputs": [],
   "source": [
    "def success_score(img_0, img_1, cap_0, cap_1):\n",
    "    score_img_0_cap_0 = get_matching_score(img_0, cap_0)\n",
    "    score_img_0_cap_1 = get_matching_score(img_0, cap_1)\n",
    "    score_img_1_cap_0 = get_matching_score(img_1, cap_0)\n",
    "    score_img_1_cap_1 = get_matching_score(img_1, cap_1)\n",
    "    file = open(\"../output_files/lxmert_wino_match_score.txt\", \"a\")\n",
    "    file.write(f\"img-cap(0,0): {score_img_0_cap_0:.5}, img-cap(0,1): {score_img_0_cap_1:.5}, img-cap(1,0): {score_img_1_cap_0:.5}, img-cap(1,1): {score_img_1_cap_1:.5}\\n\")\n",
    "    group_score = False \n",
    "    if (score_img_0_cap_0>score_img_0_cap_1) and (score_img_1_cap_1>score_img_1_cap_0):\n",
    "        group_score=True\n",
    "    return group_score"
   ]
  },
  {
   "cell_type": "code",
   "execution_count": 8,
   "metadata": {},
   "outputs": [
    {
     "name": "stderr",
     "output_type": "stream",
     "text": [
      "c:\\Users\\DELL\\anaconda3\\envs\\py3.10\\lib\\site-packages\\torch\\functional.py:504: UserWarning: torch.meshgrid: in an upcoming release, it will be required to pass the indexing argument. (Triggered internally at C:\\cb\\pytorch_1000000000000\\work\\aten\\src\\ATen\\native\\TensorShape.cpp:3484.)\n",
      "  return _VF.meshgrid(tensors, **kwargs)  # type: ignore[attr-defined]\n"
     ]
    },
    {
     "name": "stdout",
     "output_type": "stream",
     "text": [
      "Hit Rate: 0.2075\n"
     ]
    }
   ],
   "source": [
    "from source.wino_loader import extract_captions_winoground\n",
    "winoground = extract_captions_winoground(dir = \"../dataset/examples.jsonl\")\n",
    "hit_score = 0\n",
    "for i in range(len(winoground['caption_0'])):\n",
    "    img_0 = \"../dataset/images/\"+ winoground[\"image_0\"][i]+\".png\"\n",
    "    img_1 = \"../dataset/images/\"+ winoground[\"image_1\"][i]+\".png\"\n",
    "    caption_0 = winoground[\"caption_0\"][i]\n",
    "    caption_1= winoground[\"caption_1\"][i]\n",
    "    group_score =success_score(img_0, img_1, caption_0, caption_1)\n",
    "    if group_score:\n",
    "        hit_score +=1\n",
    "print(f\"Hit Rate: {hit_score/len(winoground['caption_0'])}\")"
   ]
  },
  {
   "cell_type": "markdown",
   "metadata": {},
   "source": [
    "### THIS PORTION CONTAINS THE CODE TO COMPARE THE PERFORAMNCE OF CLIP MODEL WITH WINOGROUND AND MODIFIED WINOGROUND DATASET ###\n",
    "*MODIFIED CAPTIONS = 50*"
   ]
  },
  {
   "cell_type": "code",
   "execution_count": 1,
   "metadata": {},
   "outputs": [
    {
     "name": "stdout",
     "output_type": "stream",
     "text": [
      "lxmert_utils already exists\n",
      "modeling_frcnn already exists\n",
      "processing_image already exists\n"
     ]
    },
    {
     "name": "stderr",
     "output_type": "stream",
     "text": [
      "c:\\Users\\DELL\\anaconda3\\envs\\py3.10\\lib\\site-packages\\tqdm\\auto.py:21: TqdmWarning: IProgress not found. Please update jupyter and ipywidgets. See https://ipywidgets.readthedocs.io/en/stable/user_install.html\n",
      "  from .autonotebook import tqdm as notebook_tqdm\n"
     ]
    },
    {
     "name": "stdout",
     "output_type": "stream",
     "text": [
      "loading configuration file cache\n",
      "loading weights file https://cdn.huggingface.co/unc-nlp/frcnn-vg-finetuned/pytorch_model.bin from cache at C:\\Users\\DELL/.cache\\torch\\transformers\\57f6df6abe353be2773f2700159c65615babf39ab5b48114d2b49267672ae10f.77b59256a4cf8343ae0f923246a81489fc8d82f98d082edc2d2037c977c0d9d0\n",
      "All model checkpoint weights were used when initializing GeneralizedRCNN.\n",
      "\n",
      "All the weights of GeneralizedRCNN were initialized from the model checkpoint at unc-nlp/frcnn-vg-finetuned.\n",
      "If your task is similar to the task the model of the checkpoint was trained on, you can already use GeneralizedRCNN for predictions without further training.\n"
     ]
    },
    {
     "name": "stderr",
     "output_type": "stream",
     "text": [
      "c:\\Users\\DELL\\anaconda3\\envs\\py3.10\\lib\\site-packages\\torch\\functional.py:504: UserWarning: torch.meshgrid: in an upcoming release, it will be required to pass the indexing argument. (Triggered internally at C:\\cb\\pytorch_1000000000000\\work\\aten\\src\\ATen\\native\\TensorShape.cpp:3484.)\n",
      "  return _VF.meshgrid(tensors, **kwargs)  # type: ignore[attr-defined]\n"
     ]
    },
    {
     "name": "stdout",
     "output_type": "stream",
     "text": [
      "Hit Ratio for Winoground: 0.16\n",
      "Hit Ratio for Modified Winoground: 0.32\n",
      "Winoground Hit Score: 8\n",
      "Modified Winoground Hit Score: 16\n",
      "No. of Samples where BOTH the WINOGROUND captions and MODIFIED pairs are identified INCORRECTLY: 30\n",
      "No. of Samples where the WINOGROUND captions are indentified INCORRECTLY but MODIFIED pairs are identified CORRECTLY: 12\n",
      "No. of Samples where the WINOGROUND captions are indentified CORRECTLY but MODIFIED pairs are identified INCORRECTLY: 4\n",
      "No. of Samples where both the WINOGROUND captions and MODIFIED pairs are identified CORRECTLY: 4\n"
     ]
    }
   ],
   "source": [
    "import sys\n",
    "sys.path.insert(0, \"../\")\n",
    "\n",
    "\n",
    "from pathlib import Path \n",
    "import requests\n",
    "\n",
    "#Download helper function from PyTorch repo\n",
    "if Path('utils.py').is_file():\n",
    "    print(\"lxmert_utils already exists\")\n",
    "else:\n",
    "    request = requests.get(\"https://raw.githubusercontent.com/huggingface/transformers/main/examples/research_projects/lxmert/utils.py\")\n",
    "    with open(\"utils.py\", \"wb\") as f:\n",
    "        f.write(request.content)\n",
    "\n",
    "if Path('modeling_frcnn.py').is_file():\n",
    "    print(\"modeling_frcnn already exists\")\n",
    "else:\n",
    "    request = requests.get(\"https://raw.githubusercontent.com/huggingface/transformers/main/examples/research_projects/lxmert/modeling_frcnn.py\")\n",
    "    with open(\"modeling_frcnn.py\", \"wb\") as f:\n",
    "        f.write(request.content)\n",
    "\n",
    "if Path('processing_image.py').is_file():\n",
    "    print(\"processing_image already exists\")\n",
    "else:\n",
    "    request = requests.get(\"https://raw.githubusercontent.com/huggingface/transformers/main/examples/research_projects/lxmert/processing_image.py\")\n",
    "    with open(\"processing_image.py\", \"wb\") as f:\n",
    "        f.write(request.content)\n",
    "from modeling_frcnn import GeneralizedRCNN\n",
    "\n",
    "\n",
    "from utils import Config\n",
    "import transformers\n",
    "from processing_image import Preprocess\n",
    "from modeling_frcnn import GeneralizedRCNN\n",
    "from transformers import LxmertTokenizer, LxmertForPreTraining\n",
    "import torch\n",
    "import numpy as np\n",
    "\n",
    "\n",
    "config_frcnn = Config.from_pretrained(\"unc-nlp/frcnn-vg-finetuned\")\n",
    "frcnnn = GeneralizedRCNN.from_pretrained(\"unc-nlp/frcnn-vg-finetuned\", config=config_frcnn)\n",
    "image_preprocess = Preprocess(config_frcnn)\n",
    "#device = \"cuda\" if torch.cuda.is_available() else \"cpu\"\n",
    "device = 'cpu'\n",
    "\n",
    "tokenizer = LxmertTokenizer.from_pretrained('unc-nlp/lxmert-base-uncased')\n",
    "model = LxmertForPreTraining.from_pretrained('unc-nlp/lxmert-base-uncased')\n",
    "\n",
    "def get_matching_score(img, caption):\n",
    "    images, sizes, scales_yx = image_preprocess(img)\n",
    "    output_dict = frcnnn(\n",
    "        images,\n",
    "        sizes,\n",
    "        scales_yx=scales_yx,\n",
    "        padding=\"max_detections\",\n",
    "        max_detections=config_frcnn.max_detections,\n",
    "        return_tensors=\"pt\",\n",
    "    )\n",
    "    normalized_boxes = output_dict.get(\"normalized_boxes\")\n",
    "    features = output_dict.get(\"roi_features\")\n",
    "    tokenized = tokenizer(caption, padding=True)\n",
    "    model_input={}\n",
    "    model_input['input_ids'] = torch.tensor(tokenized['input_ids'], dtype=torch.long)[None,:].to(device)\n",
    "    model_input['attention_mask'] = torch.tensor(tokenized['attention_mask'])[None,:].to(device)\n",
    "    model_input['token_type_ids'] = torch.tensor(tokenized['token_type_ids'], dtype=torch.long)[None,:].to(device)\n",
    "    model_input['visual_feats'] = features\n",
    "    model_input['visual_pos'] = normalized_boxes\n",
    "    with torch.inference_mode():\n",
    "        output = model(**model_input, output_attentions=True)\n",
    "    del model_input, normalized_boxes, features, output_dict, images, sizes, scales_yx\n",
    "    itm_scores = output.cross_relationship_score[0] \n",
    "    itm_scores_prob = torch.nn.functional.softmax(itm_scores, dim=0)\n",
    "    return itm_scores_prob[1].item()\n",
    "\n",
    "def success_score(img_0, img_1, cap_0, cap_1):\n",
    "    score_img_0_cap_0 = get_matching_score(img_0, cap_0)\n",
    "    score_img_0_cap_1 = get_matching_score(img_0, cap_1)\n",
    "    score_img_1_cap_0 = get_matching_score(img_1, cap_0)\n",
    "    score_img_1_cap_1 = get_matching_score(img_1, cap_1)\n",
    "    file = open(\"../output_files/lxmert_wino_match_score.txt\", \"a\")\n",
    "    file.write(f\"img-cap(0,0): {score_img_0_cap_0:.5}, img-cap(0,1): {score_img_0_cap_1:.5}, img-cap(1,0): {score_img_1_cap_0:.5}, img-cap(1,1): {score_img_1_cap_1:.5}\\n\")\n",
    "    group_score = False \n",
    "    if (score_img_0_cap_0>score_img_0_cap_1) and (score_img_1_cap_1>score_img_1_cap_0):\n",
    "        group_score=True\n",
    "    return group_score\n",
    "\n",
    "from source.wino_loader import extract_edited_captions_winoground\n",
    "n_samples=50\n",
    "modified_winoground = extract_edited_captions_winoground(dir=\"../dataset/edited_captions.xls\", edited_captions=n_samples)\n",
    "wino_hit_score = 0\n",
    "modified_hit_score =0\n",
    "\n",
    "##----- compare wino and modified outcome-------\n",
    "wino_0_modified_0 = 0\n",
    "wino_0_modified_1 = 0\n",
    "wino_1_modified_0 = 0\n",
    "wino_1_modified_1 = 0\n",
    "for i in range(len(modified_winoground['true_caption_0'])):\n",
    "    img_0 = \"../dataset/images/\"+ modified_winoground[\"image_0\"][i]+\".png\"\n",
    "    img_1 = \"../dataset/images/\"+ modified_winoground[\"image_1\"][i]+\".png\"\n",
    "    true_caption_0 = modified_winoground[\"true_caption_0\"][i]\n",
    "    true_caption_1= modified_winoground[\"true_caption_1\"][i]\n",
    "    modified_caption_0 = modified_winoground[\"modified_caption_0\"][i]\n",
    "    modified_caption_1= modified_winoground[\"modified_caption_1\"][i]\n",
    "    wino_group_score =success_score(img_0, img_1, true_caption_0, true_caption_1)\n",
    "    modified_group_score =success_score(img_0, img_1, modified_caption_0, modified_caption_1)\n",
    "    if wino_group_score:\n",
    "        wino_hit_score +=1\n",
    "    if modified_group_score:\n",
    "        modified_hit_score +=1\n",
    "\n",
    "    \n",
    "    if wino_group_score==False and modified_group_score==False:\n",
    "        wino_0_modified_0 +=1\n",
    "    elif wino_group_score==False and modified_group_score==True:\n",
    "        wino_0_modified_1 +=1\n",
    "    elif wino_group_score==True and modified_group_score==False:\n",
    "        wino_1_modified_0 +=1\n",
    "    elif wino_group_score==True and modified_group_score==True:\n",
    "        wino_1_modified_1 +=1\n",
    "\n",
    "\n",
    "print(f\"Hit Ratio for Winoground: {wino_hit_score/n_samples}\")\n",
    "print(f\"Hit Ratio for Modified Winoground: {modified_hit_score/n_samples}\")\n",
    "print(f\"Winoground Hit Score: {wino_hit_score}\")\n",
    "print(f\"Modified Winoground Hit Score: {modified_hit_score}\")\n",
    "print(f\"No. of Samples where BOTH the WINOGROUND captions and MODIFIED pairs are identified INCORRECTLY: {wino_0_modified_0}\")\n",
    "print(f\"No. of Samples where the WINOGROUND captions are indentified INCORRECTLY but MODIFIED pairs are identified CORRECTLY: {wino_0_modified_1}\")\n",
    "print(f\"No. of Samples where the WINOGROUND captions are indentified CORRECTLY but MODIFIED pairs are identified INCORRECTLY: {wino_1_modified_0}\")\n",
    "print(f\"No. of Samples where both the WINOGROUND captions and MODIFIED pairs are identified CORRECTLY: {wino_1_modified_1}\")"
   ]
  },
  {
   "attachments": {},
   "cell_type": "markdown",
   "metadata": {},
   "source": [
    "### THIS PORTION CONTAINS THE CODE TO COMPARE THE PERFORAMNCE OF CLIP MODEL WITH WINOGROUND AND MODIFIED WINOGROUND DATASET ###\n",
    "*MODIFIED CAPTIONS = 100*"
   ]
  },
  {
   "cell_type": "code",
   "execution_count": 1,
   "metadata": {},
   "outputs": [
    {
     "name": "stdout",
     "output_type": "stream",
     "text": [
      "lxmert_utils already exists\n",
      "modeling_frcnn already exists\n",
      "processing_image already exists\n"
     ]
    },
    {
     "name": "stderr",
     "output_type": "stream",
     "text": [
      "c:\\Users\\DELL\\anaconda3\\envs\\py3.10\\lib\\site-packages\\tqdm\\auto.py:21: TqdmWarning: IProgress not found. Please update jupyter and ipywidgets. See https://ipywidgets.readthedocs.io/en/stable/user_install.html\n",
      "  from .autonotebook import tqdm as notebook_tqdm\n"
     ]
    },
    {
     "name": "stdout",
     "output_type": "stream",
     "text": [
      "loading configuration file cache\n",
      "loading weights file https://cdn.huggingface.co/unc-nlp/frcnn-vg-finetuned/pytorch_model.bin from cache at C:\\Users\\DELL/.cache\\torch\\transformers\\57f6df6abe353be2773f2700159c65615babf39ab5b48114d2b49267672ae10f.77b59256a4cf8343ae0f923246a81489fc8d82f98d082edc2d2037c977c0d9d0\n",
      "All model checkpoint weights were used when initializing GeneralizedRCNN.\n",
      "\n",
      "All the weights of GeneralizedRCNN were initialized from the model checkpoint at unc-nlp/frcnn-vg-finetuned.\n",
      "If your task is similar to the task the model of the checkpoint was trained on, you can already use GeneralizedRCNN for predictions without further training.\n"
     ]
    },
    {
     "name": "stderr",
     "output_type": "stream",
     "text": [
      "c:\\Users\\DELL\\anaconda3\\envs\\py3.10\\lib\\site-packages\\torch\\functional.py:504: UserWarning: torch.meshgrid: in an upcoming release, it will be required to pass the indexing argument. (Triggered internally at C:\\cb\\pytorch_1000000000000\\work\\aten\\src\\ATen\\native\\TensorShape.cpp:3484.)\n",
      "  return _VF.meshgrid(tensors, **kwargs)  # type: ignore[attr-defined]\n"
     ]
    },
    {
     "name": "stdout",
     "output_type": "stream",
     "text": [
      "Hit Ratio for Winoground: 0.13\n",
      "Hit Ratio for Modified Winoground: 0.3\n",
      "Winoground Hit Score: 13\n",
      "Modified Winoground Hit Score: 30\n",
      "No. of Samples where BOTH the WINOGROUND captions and MODIFIED pairs are identified INCORRECTLY: 64\n",
      "No. of Samples where the WINOGROUND captions are indentified INCORRECTLY but MODIFIED pairs are identified CORRECTLY: 23\n",
      "No. of Samples where the WINOGROUND captions are indentified CORRECTLY but MODIFIED pairs are identified INCORRECTLY: 6\n",
      "No. of Samples where both the WINOGROUND captions and MODIFIED pairs are identified CORRECTLY: 7\n"
     ]
    }
   ],
   "source": [
    "import sys\n",
    "sys.path.insert(0, \"../\")\n",
    "\n",
    "\n",
    "from pathlib import Path \n",
    "import requests\n",
    "\n",
    "#Download helper function from PyTorch repo\n",
    "if Path('utils.py').is_file():\n",
    "    print(\"lxmert_utils already exists\")\n",
    "else:\n",
    "    request = requests.get(\"https://raw.githubusercontent.com/huggingface/transformers/main/examples/research_projects/lxmert/utils.py\")\n",
    "    with open(\"utils.py\", \"wb\") as f:\n",
    "        f.write(request.content)\n",
    "\n",
    "if Path('modeling_frcnn.py').is_file():\n",
    "    print(\"modeling_frcnn already exists\")\n",
    "else:\n",
    "    request = requests.get(\"https://raw.githubusercontent.com/huggingface/transformers/main/examples/research_projects/lxmert/modeling_frcnn.py\")\n",
    "    with open(\"modeling_frcnn.py\", \"wb\") as f:\n",
    "        f.write(request.content)\n",
    "\n",
    "if Path('processing_image.py').is_file():\n",
    "    print(\"processing_image already exists\")\n",
    "else:\n",
    "    request = requests.get(\"https://raw.githubusercontent.com/huggingface/transformers/main/examples/research_projects/lxmert/processing_image.py\")\n",
    "    with open(\"processing_image.py\", \"wb\") as f:\n",
    "        f.write(request.content)\n",
    "from modeling_frcnn import GeneralizedRCNN\n",
    "\n",
    "\n",
    "from utils import Config\n",
    "import transformers\n",
    "from processing_image import Preprocess\n",
    "from modeling_frcnn import GeneralizedRCNN\n",
    "from transformers import LxmertTokenizer, LxmertForPreTraining\n",
    "import torch\n",
    "import numpy as np\n",
    "\n",
    "\n",
    "config_frcnn = Config.from_pretrained(\"unc-nlp/frcnn-vg-finetuned\")\n",
    "frcnnn = GeneralizedRCNN.from_pretrained(\"unc-nlp/frcnn-vg-finetuned\", config=config_frcnn)\n",
    "image_preprocess = Preprocess(config_frcnn)\n",
    "#device = \"cuda\" if torch.cuda.is_available() else \"cpu\"\n",
    "device = 'cpu'\n",
    "\n",
    "tokenizer = LxmertTokenizer.from_pretrained('unc-nlp/lxmert-base-uncased')\n",
    "model = LxmertForPreTraining.from_pretrained('unc-nlp/lxmert-base-uncased')\n",
    "\n",
    "def get_matching_score(img, caption):\n",
    "    images, sizes, scales_yx = image_preprocess(img)\n",
    "    output_dict = frcnnn(\n",
    "        images,\n",
    "        sizes,\n",
    "        scales_yx=scales_yx,\n",
    "        padding=\"max_detections\",\n",
    "        max_detections=config_frcnn.max_detections,\n",
    "        return_tensors=\"pt\",\n",
    "    )\n",
    "    normalized_boxes = output_dict.get(\"normalized_boxes\")\n",
    "    features = output_dict.get(\"roi_features\")\n",
    "    tokenized = tokenizer(caption, padding=True)\n",
    "    model_input={}\n",
    "    model_input['input_ids'] = torch.tensor(tokenized['input_ids'], dtype=torch.long)[None,:].to(device)\n",
    "    model_input['attention_mask'] = torch.tensor(tokenized['attention_mask'])[None,:].to(device)\n",
    "    model_input['token_type_ids'] = torch.tensor(tokenized['token_type_ids'], dtype=torch.long)[None,:].to(device)\n",
    "    model_input['visual_feats'] = features\n",
    "    model_input['visual_pos'] = normalized_boxes\n",
    "    with torch.inference_mode():\n",
    "        output = model(**model_input, output_attentions=True)\n",
    "    del model_input, normalized_boxes, features, output_dict, images, sizes, scales_yx\n",
    "    itm_scores = output.cross_relationship_score[0] \n",
    "    itm_scores_prob = torch.nn.functional.softmax(itm_scores, dim=0)\n",
    "    return itm_scores_prob[1].item()\n",
    "\n",
    "def success_score(img_0, img_1, cap_0, cap_1):\n",
    "    score_img_0_cap_0 = get_matching_score(img_0, cap_0)\n",
    "    score_img_0_cap_1 = get_matching_score(img_0, cap_1)\n",
    "    score_img_1_cap_0 = get_matching_score(img_1, cap_0)\n",
    "    score_img_1_cap_1 = get_matching_score(img_1, cap_1)\n",
    "    file = open(\"../output_files/lxmert_wino_match_score.txt\", \"a\")\n",
    "    file.write(f\"img-cap(0,0): {score_img_0_cap_0:.5}, img-cap(0,1): {score_img_0_cap_1:.5}, img-cap(1,0): {score_img_1_cap_0:.5}, img-cap(1,1): {score_img_1_cap_1:.5}\\n\")\n",
    "    group_score = False \n",
    "    if (score_img_0_cap_0>score_img_0_cap_1) and (score_img_1_cap_1>score_img_1_cap_0):\n",
    "        group_score=True\n",
    "    return group_score\n",
    "\n",
    "from source.wino_loader import extract_edited_captions_winoground\n",
    "n_samples=100\n",
    "modified_winoground = extract_edited_captions_winoground(dir=\"../dataset/edited_captions.xls\", edited_captions=n_samples)\n",
    "wino_hit_score = 0\n",
    "modified_hit_score =0\n",
    "\n",
    "##----- compare wino and modified outcome-------\n",
    "wino_0_modified_0 = 0\n",
    "wino_0_modified_1 = 0\n",
    "wino_1_modified_0 = 0\n",
    "wino_1_modified_1 = 0\n",
    "for i in range(len(modified_winoground['true_caption_0'])):\n",
    "    img_0 = \"../dataset/images/\"+ modified_winoground[\"image_0\"][i]+\".png\"\n",
    "    img_1 = \"../dataset/images/\"+ modified_winoground[\"image_1\"][i]+\".png\"\n",
    "    true_caption_0 = modified_winoground[\"true_caption_0\"][i]\n",
    "    true_caption_1= modified_winoground[\"true_caption_1\"][i]\n",
    "    modified_caption_0 = modified_winoground[\"modified_caption_0\"][i]\n",
    "    modified_caption_1= modified_winoground[\"modified_caption_1\"][i]\n",
    "    wino_group_score =success_score(img_0, img_1, true_caption_0, true_caption_1)\n",
    "    modified_group_score =success_score(img_0, img_1, modified_caption_0, modified_caption_1)\n",
    "    if wino_group_score:\n",
    "        wino_hit_score +=1\n",
    "    if modified_group_score:\n",
    "        modified_hit_score +=1\n",
    "\n",
    "    \n",
    "    if wino_group_score==False and modified_group_score==False:\n",
    "        wino_0_modified_0 +=1\n",
    "    elif wino_group_score==False and modified_group_score==True:\n",
    "        wino_0_modified_1 +=1\n",
    "    elif wino_group_score==True and modified_group_score==False:\n",
    "        wino_1_modified_0 +=1\n",
    "    elif wino_group_score==True and modified_group_score==True:\n",
    "        wino_1_modified_1 +=1\n",
    "\n",
    "\n",
    "print(f\"Hit Ratio for Winoground: {wino_hit_score/n_samples}\")\n",
    "print(f\"Hit Ratio for Modified Winoground: {modified_hit_score/n_samples}\")\n",
    "print(f\"Winoground Hit Score: {wino_hit_score}\")\n",
    "print(f\"Modified Winoground Hit Score: {modified_hit_score}\")\n",
    "print(f\"No. of Samples where BOTH the WINOGROUND captions and MODIFIED pairs are identified INCORRECTLY: {wino_0_modified_0}\")\n",
    "print(f\"No. of Samples where the WINOGROUND captions are indentified INCORRECTLY but MODIFIED pairs are identified CORRECTLY: {wino_0_modified_1}\")\n",
    "print(f\"No. of Samples where the WINOGROUND captions are indentified CORRECTLY but MODIFIED pairs are identified INCORRECTLY: {wino_1_modified_0}\")\n",
    "print(f\"No. of Samples where both the WINOGROUND captions and MODIFIED pairs are identified CORRECTLY: {wino_1_modified_1}\")"
   ]
  },
  {
   "cell_type": "code",
   "execution_count": 7,
   "metadata": {},
   "outputs": [
    {
     "name": "stderr",
     "output_type": "stream",
     "text": [
      "c:\\Users\\DELL\\anaconda3\\envs\\py3.10\\lib\\site-packages\\torch\\functional.py:504: UserWarning: torch.meshgrid: in an upcoming release, it will be required to pass the indexing argument. (Triggered internally at C:\\cb\\pytorch_1000000000000\\work\\aten\\src\\ATen\\native\\TensorShape.cpp:3484.)\n",
      "  return _VF.meshgrid(tensors, **kwargs)  # type: ignore[attr-defined]\n"
     ]
    }
   ],
   "source": [
    "images, sizes, scales_yx = image_preprocess('../dataset/images/ex_0_img_0.png')\n",
    "output_dict = frcnnn(\n",
    "    images,\n",
    "    sizes,\n",
    "    scales_yx=scales_yx,\n",
    "    padding=\"max_detections\",\n",
    "    max_detections=config_frcnn.max_detections,\n",
    "    return_tensors=\"pt\",\n",
    ")"
   ]
  },
  {
   "cell_type": "code",
   "execution_count": 8,
   "metadata": {},
   "outputs": [],
   "source": [
    "# Very important that the boxes are normalized\n",
    "normalized_boxes = output_dict.get(\"normalized_boxes\")\n",
    "features = output_dict.get(\"roi_features\")"
   ]
  },
  {
   "cell_type": "code",
   "execution_count": 9,
   "metadata": {},
   "outputs": [
    {
     "data": {
      "text/plain": [
       "torch.Size([1, 36, 2048])"
      ]
     },
     "execution_count": 9,
     "metadata": {},
     "output_type": "execute_result"
    }
   ],
   "source": [
    "features.shape"
   ]
  },
  {
   "cell_type": "code",
   "execution_count": 10,
   "metadata": {},
   "outputs": [],
   "source": []
  },
  {
   "cell_type": "code",
   "execution_count": 49,
   "metadata": {},
   "outputs": [
    {
     "name": "stderr",
     "output_type": "stream",
     "text": [
      "loading file vocab.txt from cache at C:\\Users\\DELL/.cache\\huggingface\\hub\\models--unc-nlp--lxmert-base-uncased\\snapshots\\628572c96242d1496147beec1c13a1bb7869605d\\vocab.txt\n",
      "loading file added_tokens.json from cache at None\n",
      "loading file special_tokens_map.json from cache at C:\\Users\\DELL/.cache\\huggingface\\hub\\models--unc-nlp--lxmert-base-uncased\\snapshots\\628572c96242d1496147beec1c13a1bb7869605d\\special_tokens_map.json\n",
      "loading file tokenizer_config.json from cache at C:\\Users\\DELL/.cache\\huggingface\\hub\\models--unc-nlp--lxmert-base-uncased\\snapshots\\628572c96242d1496147beec1c13a1bb7869605d\\tokenizer_config.json\n",
      "loading configuration file config.json from cache at C:\\Users\\DELL/.cache\\huggingface\\hub\\models--unc-nlp--lxmert-base-uncased\\snapshots\\628572c96242d1496147beec1c13a1bb7869605d\\config.json\n",
      "Model config LxmertConfig {\n",
      "  \"_name_or_path\": \"unc-nlp/lxmert-base-uncased\",\n",
      "  \"architectures\": [\n",
      "    \"LxmertModel\"\n",
      "  ],\n",
      "  \"attention_probs_dropout_prob\": 0.1,\n",
      "  \"hidden_act\": \"gelu\",\n",
      "  \"hidden_dropout_prob\": 0.1,\n",
      "  \"hidden_size\": 768,\n",
      "  \"initializer_range\": 0.02,\n",
      "  \"intermediate_size\": 3072,\n",
      "  \"l_layers\": 9,\n",
      "  \"layer_norm_eps\": 1e-12,\n",
      "  \"max_position_embeddings\": 512,\n",
      "  \"model_type\": \"lxmert\",\n",
      "  \"num_attention_heads\": 12,\n",
      "  \"num_attr_labels\": 400,\n",
      "  \"num_hidden_layers\": {\n",
      "    \"cross_encoder\": 5,\n",
      "    \"language\": 9,\n",
      "    \"vision\": 5\n",
      "  },\n",
      "  \"num_object_labels\": 1600,\n",
      "  \"num_qa_labels\": 9500,\n",
      "  \"r_layers\": 5,\n",
      "  \"task_mask_lm\": true,\n",
      "  \"task_matched\": true,\n",
      "  \"task_obj_predict\": true,\n",
      "  \"task_qa\": true,\n",
      "  \"transformers_version\": \"4.31.0.dev0\",\n",
      "  \"type_vocab_size\": 2,\n",
      "  \"visual_attr_loss\": true,\n",
      "  \"visual_feat_dim\": 2048,\n",
      "  \"visual_feat_loss\": true,\n",
      "  \"visual_loss_normalizer\": 6.67,\n",
      "  \"visual_obj_loss\": true,\n",
      "  \"visual_pos_dim\": 4,\n",
      "  \"vocab_size\": 30522,\n",
      "  \"x_layers\": 5\n",
      "}\n",
      "\n",
      "loading configuration file config.json from cache at C:\\Users\\DELL/.cache\\huggingface\\hub\\models--unc-nlp--lxmert-base-uncased\\snapshots\\628572c96242d1496147beec1c13a1bb7869605d\\config.json\n",
      "Model config LxmertConfig {\n",
      "  \"architectures\": [\n",
      "    \"LxmertModel\"\n",
      "  ],\n",
      "  \"attention_probs_dropout_prob\": 0.1,\n",
      "  \"hidden_act\": \"gelu\",\n",
      "  \"hidden_dropout_prob\": 0.1,\n",
      "  \"hidden_size\": 768,\n",
      "  \"initializer_range\": 0.02,\n",
      "  \"intermediate_size\": 3072,\n",
      "  \"l_layers\": 9,\n",
      "  \"layer_norm_eps\": 1e-12,\n",
      "  \"max_position_embeddings\": 512,\n",
      "  \"model_type\": \"lxmert\",\n",
      "  \"num_attention_heads\": 12,\n",
      "  \"num_attr_labels\": 400,\n",
      "  \"num_hidden_layers\": {\n",
      "    \"cross_encoder\": 5,\n",
      "    \"language\": 9,\n",
      "    \"vision\": 5\n",
      "  },\n",
      "  \"num_object_labels\": 1600,\n",
      "  \"num_qa_labels\": 9500,\n",
      "  \"r_layers\": 5,\n",
      "  \"task_mask_lm\": true,\n",
      "  \"task_matched\": true,\n",
      "  \"task_obj_predict\": true,\n",
      "  \"task_qa\": true,\n",
      "  \"transformers_version\": \"4.31.0.dev0\",\n",
      "  \"type_vocab_size\": 2,\n",
      "  \"visual_attr_loss\": true,\n",
      "  \"visual_feat_dim\": 2048,\n",
      "  \"visual_feat_loss\": true,\n",
      "  \"visual_loss_normalizer\": 6.67,\n",
      "  \"visual_obj_loss\": true,\n",
      "  \"visual_pos_dim\": 4,\n",
      "  \"vocab_size\": 30522,\n",
      "  \"x_layers\": 5\n",
      "}\n",
      "\n",
      "loading weights file pytorch_model.bin from cache at C:\\Users\\DELL/.cache\\huggingface\\hub\\models--unc-nlp--lxmert-base-uncased\\snapshots\\628572c96242d1496147beec1c13a1bb7869605d\\pytorch_model.bin\n",
      "All model checkpoint weights were used when initializing LxmertForPreTraining.\n",
      "\n",
      "All the weights of LxmertForPreTraining were initialized from the model checkpoint at unc-nlp/lxmert-base-uncased.\n",
      "If your task is similar to the task the model of the checkpoint was trained on, you can already use LxmertForPreTraining for predictions without further training.\n"
     ]
    }
   ],
   "source": [
    "\n",
    "\n"
   ]
  },
  {
   "cell_type": "code",
   "execution_count": 50,
   "metadata": {},
   "outputs": [],
   "source": [
    "device = 'cpu'\n",
    "model_input={}\n",
    "caption ='an old person kisses a young person'\n",
    "tokenized = tokenizer(caption, padding=True)\n",
    "model_input['input_ids'] = torch.tensor(tokenized['input_ids'], dtype=torch.long)[None,:].to(device)\n",
    "model_input['attention_mask'] = torch.tensor(tokenized['attention_mask'])[None,:].to(device)\n",
    "model_input['token_type_ids'] = torch.tensor(tokenized['token_type_ids'], dtype=torch.long)[None,:].to(device)\n",
    "model_input['visual_feats'] = features\n",
    "model_input['visual_pos'] = normalized_boxes\n"
   ]
  },
  {
   "cell_type": "code",
   "execution_count": 51,
   "metadata": {},
   "outputs": [],
   "source": [
    "output = model(**model_input, output_attentions=True)\n"
   ]
  },
  {
   "cell_type": "code",
   "execution_count": 52,
   "metadata": {},
   "outputs": [
    {
     "data": {
      "text/plain": [
       "odict_keys(['prediction_logits', 'cross_relationship_score', 'question_answering_score', 'language_attentions', 'vision_attentions', 'cross_encoder_attentions'])"
      ]
     },
     "execution_count": 52,
     "metadata": {},
     "output_type": "execute_result"
    }
   ],
   "source": [
    "output.keys()"
   ]
  },
  {
   "cell_type": "code",
   "execution_count": 42,
   "metadata": {},
   "outputs": [
    {
     "ename": "AttributeError",
     "evalue": "module 'torch.functional' has no attribute 'Sigmoid'",
     "output_type": "error",
     "traceback": [
      "\u001b[1;31m---------------------------------------------------------------------------\u001b[0m",
      "\u001b[1;31mAttributeError\u001b[0m                            Traceback (most recent call last)",
      "Cell \u001b[1;32mIn[42], line 2\u001b[0m\n\u001b[0;32m      1\u001b[0m output\u001b[39m.\u001b[39mpooled_output\u001b[39m.\u001b[39mshape\n\u001b[1;32m----> 2\u001b[0m torch\u001b[39m.\u001b[39;49mfunctional\u001b[39m.\u001b[39;49mSigmoid(output\u001b[39m.\u001b[39mpooled_output)\n",
      "\u001b[1;31mAttributeError\u001b[0m: module 'torch.functional' has no attribute 'Sigmoid'"
     ]
    }
   ],
   "source": [
    "output.pooled_output.shape\n",
    "torch.functional.Sigmoid(output.pooled_output)"
   ]
  },
  {
   "cell_type": "code",
   "execution_count": 53,
   "metadata": {},
   "outputs": [
    {
     "data": {
      "text/plain": [
       "0.14158210158348083"
      ]
     },
     "execution_count": 53,
     "metadata": {},
     "output_type": "execute_result"
    }
   ],
   "source": [
    "itm_scores = output.cross_relationship_score[0] # Batch size 1 so [0]\n",
    "itm_scores_prob = torch.nn.functional.softmax(itm_scores, dim=0)\n",
    "itm_scores_prob[1].item()"
   ]
  },
  {
   "cell_type": "code",
   "execution_count": 56,
   "metadata": {},
   "outputs": [
    {
     "data": {
      "text/plain": [
       "tensor([ 0.8916, -0.9106], grad_fn=<SelectBackward0>)"
      ]
     },
     "execution_count": 56,
     "metadata": {},
     "output_type": "execute_result"
    }
   ],
   "source": [
    "output.cross_relationship_score[0]"
   ]
  },
  {
   "cell_type": "code",
   "execution_count": 57,
   "metadata": {},
   "outputs": [
    {
     "data": {
      "text/plain": [
       "tensor([0.8584, 0.1416], grad_fn=<SoftmaxBackward0>)"
      ]
     },
     "execution_count": 57,
     "metadata": {},
     "output_type": "execute_result"
    }
   ],
   "source": [
    "itm_scores_prob"
   ]
  },
  {
   "attachments": {},
   "cell_type": "markdown",
   "metadata": {},
   "source": [
    "https://github.com/huggingface/transformers/issues/7266#issuecomment-748211135\n",
    "This comment saves my life"
   ]
  }
 ],
 "metadata": {
  "kernelspec": {
   "display_name": "py3.10",
   "language": "python",
   "name": "python3"
  },
  "language_info": {
   "codemirror_mode": {
    "name": "ipython",
    "version": 3
   },
   "file_extension": ".py",
   "mimetype": "text/x-python",
   "name": "python",
   "nbconvert_exporter": "python",
   "pygments_lexer": "ipython3",
   "version": "3.10.11"
  },
  "orig_nbformat": 4
 },
 "nbformat": 4,
 "nbformat_minor": 2
}
