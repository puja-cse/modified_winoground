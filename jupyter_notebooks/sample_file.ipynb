{
 "cells": [
  {
   "cell_type": "code",
   "execution_count": 1,
   "metadata": {},
   "outputs": [],
   "source": [
    "import sys\n",
    "sys.path.insert(0, \"..\")"
   ]
  },
  {
   "cell_type": "code",
   "execution_count": 2,
   "metadata": {},
   "outputs": [],
   "source": [
    "from source import wino_loader\n",
    "\n",
    "wino_loader.extract_captions()"
   ]
  },
  {
   "cell_type": "code",
   "execution_count": 1,
   "metadata": {},
   "outputs": [],
   "source": [
    "import torch \n",
    "import pickle \n",
    "import clip\n",
    "import os\n",
    "from PIL import Image"
   ]
  },
  {
   "cell_type": "code",
   "execution_count": 2,
   "metadata": {},
   "outputs": [
    {
     "name": "stderr",
     "output_type": "stream",
     "text": [
      "100%|███████████████████████████████████████| 338M/338M [05:06<00:00, 1.16MiB/s]\n"
     ]
    }
   ],
   "source": [
    "device = \"cuda\" if torch.cuda.is_available() else \"cpu\"\n",
    "model, preprocess = clip.load(\"ViT-B/32\", device=device)"
   ]
  },
  {
   "cell_type": "code",
   "execution_count": 18,
   "metadata": {},
   "outputs": [],
   "source": [
    "img = Image.open('../dataset/images/ex_0_img_0.png')\n",
    "text = ['an old person kisses a young person,a young person kisses an old person']"
   ]
  },
  {
   "cell_type": "code",
   "execution_count": 19,
   "metadata": {},
   "outputs": [],
   "source": [
    "from transformers import CLIPProcessor, CLIPModel\n",
    "processor = CLIPProcessor.from_pretrained(\"openai/clip-vit-base-patch32\")\n",
    "input = processor(text=text, images=img, padding=True )"
   ]
  },
  {
   "cell_type": "code",
   "execution_count": 16,
   "metadata": {},
   "outputs": [
    {
     "name": "stderr",
     "output_type": "stream",
     "text": [
      "Downloading pytorch_model.bin: 100%|██████████| 605M/605M [08:33<00:00, 1.18MB/s] \n"
     ]
    }
   ],
   "source": [
    "model = CLIPModel.from_pretrained(\"openai/clip-vit-base-patch32\")"
   ]
  },
  {
   "cell_type": "code",
   "execution_count": null,
   "metadata": {},
   "outputs": [],
   "source": [
    "outputs = model(**input)\n",
    "logits_per_image = outputs.logits_per_image\n",
    "probs = logits_per_image.softmax(dim=1)"
   ]
  },
  {
   "cell_type": "code",
   "execution_count": 21,
   "metadata": {},
   "outputs": [],
   "source": [
    "from PIL import Image\n",
    "import requests\n",
    "from transformers import CLIPProcessor, CLIPModel\n",
    "model = CLIPModel.from_pretrained(\"openai/clip-vit-base-patch32\")\n",
    "processor = CLIPProcessor.from_pretrained(\"openai/clip-vit-base-patch32\")\n",
    "\n",
    "url = \"http://images.cocodataset.org/val2017/000000039769.jpg\"\n",
    "image = Image.open(requests.get(url, stream=True).raw)\n",
    "inputs = processor(text=[\"a photo of a cat\", \"a photo of a dog\"], images=image, return_tensors=\"pt\", padding=True)\n",
    "outputs = model(**inputs)\n",
    "logits_per_image = outputs.logits_per_image\n",
    "probs = logits_per_image.softmax(dim=1)"
   ]
  },
  {
   "cell_type": "code",
   "execution_count": 22,
   "metadata": {},
   "outputs": [
    {
     "data": {
      "text/plain": [
       "tensor([[24.5701, 19.3049]], grad_fn=<TBackward0>)"
      ]
     },
     "execution_count": 22,
     "metadata": {},
     "output_type": "execute_result"
    }
   ],
   "source": [
    "logits_per_image"
   ]
  },
  {
   "cell_type": "code",
   "execution_count": 23,
   "metadata": {},
   "outputs": [
    {
     "data": {
      "text/plain": [
       "tensor([[0.9949, 0.0051]], grad_fn=<SoftmaxBackward0>)"
      ]
     },
     "execution_count": 23,
     "metadata": {},
     "output_type": "execute_result"
    }
   ],
   "source": [
    "probs"
   ]
  },
  {
   "cell_type": "code",
   "execution_count": 30,
   "metadata": {},
   "outputs": [
    {
     "data": {
      "text/plain": [
       "tensor([[0.3177, 0.6823],\n",
       "        [0.2370, 0.7630]])"
      ]
     },
     "execution_count": 30,
     "metadata": {},
     "output_type": "execute_result"
    }
   ],
   "source": [
    "from PIL import Image\n",
    "import requests\n",
    "import torch \n",
    "from transformers import CLIPProcessor, CLIPModel\n",
    "model = CLIPModel.from_pretrained(\"openai/clip-vit-base-patch32\")\n",
    "processor = CLIPProcessor.from_pretrained(\"openai/clip-vit-base-patch32\")\n",
    "\n",
    "url = \"http://images.cocodataset.org/val2017/000000039769.jpg\"\n",
    "image = [Image.open('../dataset/images/ex_0_img_0.png'), Image.open('../dataset/images/ex_0_img_1.png')]\n",
    "inputs = processor(text=[\"an old person kisses a young person\",\"a young person kisses an old person\"], images=image, return_tensors=\"pt\", padding=True)\n",
    "with torch.inference_mode():\n",
    "    outputs = model(**inputs)\n",
    "\n",
    "logits_per_image = outputs.logits_per_image\n",
    "logits_per_text = outputs.logits_per_text\n",
    "probs = logits_per_image.softmax(dim=1)\n",
    "probs"
   ]
  },
  {
   "attachments": {},
   "cell_type": "markdown",
   "metadata": {},
   "source": [
    "LOAD EDITED CAPTION FROM EXCEL SHEET"
   ]
  },
  {
   "cell_type": "code",
   "execution_count": 1,
   "metadata": {},
   "outputs": [],
   "source": [
    "\n",
    "import pandas as pd\n",
    "import xlrd\n",
    "dir = \"../dataset/edited_captions.xls\"\n",
    "# Here 0th column will be extracted\n",
    "df = pd.read_excel(dir,\n",
    "                   index_col = 0)"
   ]
  },
  {
   "cell_type": "code",
   "execution_count": 2,
   "metadata": {},
   "outputs": [
    {
     "data": {
      "text/html": [
       "<div>\n",
       "<style scoped>\n",
       "    .dataframe tbody tr th:only-of-type {\n",
       "        vertical-align: middle;\n",
       "    }\n",
       "\n",
       "    .dataframe tbody tr th {\n",
       "        vertical-align: top;\n",
       "    }\n",
       "\n",
       "    .dataframe thead th {\n",
       "        text-align: right;\n",
       "    }\n",
       "</style>\n",
       "<table border=\"1\" class=\"dataframe\">\n",
       "  <thead>\n",
       "    <tr style=\"text-align: right;\">\n",
       "      <th></th>\n",
       "      <th>image_0</th>\n",
       "      <th>image_1</th>\n",
       "      <th>caption_0</th>\n",
       "      <th>caption_1</th>\n",
       "      <th>modified_caption_0</th>\n",
       "      <th>modified_caption_1</th>\n",
       "    </tr>\n",
       "    <tr>\n",
       "      <th>img_id</th>\n",
       "      <th></th>\n",
       "      <th></th>\n",
       "      <th></th>\n",
       "      <th></th>\n",
       "      <th></th>\n",
       "      <th></th>\n",
       "    </tr>\n",
       "  </thead>\n",
       "  <tbody>\n",
       "    <tr>\n",
       "      <th>0</th>\n",
       "      <td>ex_0_img_0</td>\n",
       "      <td>ex_0_img_1</td>\n",
       "      <td>an old person kisses a young person</td>\n",
       "      <td>a young person kisses an old person</td>\n",
       "      <td>an old guy kisses a child</td>\n",
       "      <td>a child kisses an old lady</td>\n",
       "    </tr>\n",
       "    <tr>\n",
       "      <th>1</th>\n",
       "      <td>ex_1_img_0</td>\n",
       "      <td>ex_1_img_1</td>\n",
       "      <td>the taller person hugs the shorter person</td>\n",
       "      <td>the shorter person hugs the taller person</td>\n",
       "      <td>the taller man hugs the shorter woman</td>\n",
       "      <td>the shorter woman hugs the taller man</td>\n",
       "    </tr>\n",
       "    <tr>\n",
       "      <th>2</th>\n",
       "      <td>ex_2_img_0</td>\n",
       "      <td>ex_2_img_1</td>\n",
       "      <td>the masked wrestler hits the unmasked wrestler</td>\n",
       "      <td>the unmasked wrestler hits the masked wrestler</td>\n",
       "      <td>the masked wrestler hits his opponent</td>\n",
       "      <td>the unmasked wrestler hits his opponent</td>\n",
       "    </tr>\n",
       "    <tr>\n",
       "      <th>3</th>\n",
       "      <td>ex_3_img_0</td>\n",
       "      <td>ex_3_img_1</td>\n",
       "      <td>a person watches an animal</td>\n",
       "      <td>an animal watches a person</td>\n",
       "      <td>a person watches a whale</td>\n",
       "      <td>a lion watches a person</td>\n",
       "    </tr>\n",
       "    <tr>\n",
       "      <th>4</th>\n",
       "      <td>ex_4_img_0</td>\n",
       "      <td>ex_4_img_1</td>\n",
       "      <td>the person without earrings pays the person wi...</td>\n",
       "      <td>the person with earrings pays the person witho...</td>\n",
       "      <td>the guy pays the lady with earrings</td>\n",
       "      <td>the lady with earrings pays another person</td>\n",
       "    </tr>\n",
       "    <tr>\n",
       "      <th>...</th>\n",
       "      <td>...</td>\n",
       "      <td>...</td>\n",
       "      <td>...</td>\n",
       "      <td>...</td>\n",
       "      <td>...</td>\n",
       "      <td>...</td>\n",
       "    </tr>\n",
       "    <tr>\n",
       "      <th>395</th>\n",
       "      <td>ex_395_img_0</td>\n",
       "      <td>ex_395_img_1</td>\n",
       "      <td>They have sunglasses over their hair</td>\n",
       "      <td>They have hair over their sunglasses</td>\n",
       "      <td>NaN</td>\n",
       "      <td>NaN</td>\n",
       "    </tr>\n",
       "    <tr>\n",
       "      <th>396</th>\n",
       "      <td>ex_396_img_0</td>\n",
       "      <td>ex_396_img_1</td>\n",
       "      <td>an odd number of sweet things on a plate with ...</td>\n",
       "      <td>an even number of sweet things on a plate with...</td>\n",
       "      <td>NaN</td>\n",
       "      <td>NaN</td>\n",
       "    </tr>\n",
       "    <tr>\n",
       "      <th>397</th>\n",
       "      <td>ex_397_img_0</td>\n",
       "      <td>ex_397_img_1</td>\n",
       "      <td>a large living thing in front of a large non-l...</td>\n",
       "      <td>a large non-living thing in front of a large l...</td>\n",
       "      <td>NaN</td>\n",
       "      <td>NaN</td>\n",
       "    </tr>\n",
       "    <tr>\n",
       "      <th>398</th>\n",
       "      <td>ex_398_img_0</td>\n",
       "      <td>ex_398_img_1</td>\n",
       "      <td>racing over it</td>\n",
       "      <td>racing it over</td>\n",
       "      <td>NaN</td>\n",
       "      <td>NaN</td>\n",
       "    </tr>\n",
       "    <tr>\n",
       "      <th>399</th>\n",
       "      <td>ex_399_img_0</td>\n",
       "      <td>ex_399_img_1</td>\n",
       "      <td>someone is overdoing it</td>\n",
       "      <td>someone is doing it over</td>\n",
       "      <td>NaN</td>\n",
       "      <td>NaN</td>\n",
       "    </tr>\n",
       "  </tbody>\n",
       "</table>\n",
       "<p>400 rows × 6 columns</p>\n",
       "</div>"
      ],
      "text/plain": [
       "             image_0       image_1  \\\n",
       "img_id                               \n",
       "0         ex_0_img_0    ex_0_img_1   \n",
       "1         ex_1_img_0    ex_1_img_1   \n",
       "2         ex_2_img_0    ex_2_img_1   \n",
       "3         ex_3_img_0    ex_3_img_1   \n",
       "4         ex_4_img_0    ex_4_img_1   \n",
       "...              ...           ...   \n",
       "395     ex_395_img_0  ex_395_img_1   \n",
       "396     ex_396_img_0  ex_396_img_1   \n",
       "397     ex_397_img_0  ex_397_img_1   \n",
       "398     ex_398_img_0  ex_398_img_1   \n",
       "399     ex_399_img_0  ex_399_img_1   \n",
       "\n",
       "                                                caption_0  \\\n",
       "img_id                                                      \n",
       "0                     an old person kisses a young person   \n",
       "1               the taller person hugs the shorter person   \n",
       "2          the masked wrestler hits the unmasked wrestler   \n",
       "3                              a person watches an animal   \n",
       "4       the person without earrings pays the person wi...   \n",
       "...                                                   ...   \n",
       "395                  They have sunglasses over their hair   \n",
       "396     an odd number of sweet things on a plate with ...   \n",
       "397     a large living thing in front of a large non-l...   \n",
       "398                                        racing over it   \n",
       "399                               someone is overdoing it   \n",
       "\n",
       "                                                caption_1  \\\n",
       "img_id                                                      \n",
       "0                     a young person kisses an old person   \n",
       "1               the shorter person hugs the taller person   \n",
       "2          the unmasked wrestler hits the masked wrestler   \n",
       "3                              an animal watches a person   \n",
       "4       the person with earrings pays the person witho...   \n",
       "...                                                   ...   \n",
       "395                  They have hair over their sunglasses   \n",
       "396     an even number of sweet things on a plate with...   \n",
       "397     a large non-living thing in front of a large l...   \n",
       "398                                        racing it over   \n",
       "399                              someone is doing it over   \n",
       "\n",
       "                           modified_caption_0  \\\n",
       "img_id                                          \n",
       "0                  an old guy kisses a child    \n",
       "1       the taller man hugs the shorter woman   \n",
       "2       the masked wrestler hits his opponent   \n",
       "3                    a person watches a whale   \n",
       "4         the guy pays the lady with earrings   \n",
       "...                                       ...   \n",
       "395                                       NaN   \n",
       "396                                       NaN   \n",
       "397                                       NaN   \n",
       "398                                       NaN   \n",
       "399                                       NaN   \n",
       "\n",
       "                                modified_caption_1  \n",
       "img_id                                              \n",
       "0                       a child kisses an old lady  \n",
       "1            the shorter woman hugs the taller man  \n",
       "2          the unmasked wrestler hits his opponent  \n",
       "3                          a lion watches a person  \n",
       "4       the lady with earrings pays another person  \n",
       "...                                            ...  \n",
       "395                                            NaN  \n",
       "396                                            NaN  \n",
       "397                                            NaN  \n",
       "398                                            NaN  \n",
       "399                                            NaN  \n",
       "\n",
       "[400 rows x 6 columns]"
      ]
     },
     "execution_count": 2,
     "metadata": {},
     "output_type": "execute_result"
    }
   ],
   "source": [
    "df"
   ]
  },
  {
   "cell_type": "code",
   "execution_count": 18,
   "metadata": {},
   "outputs": [
    {
     "data": {
      "text/plain": [
       "'the girl with red pant is running quite slowly and the guy with green pant runs runs faster'"
      ]
     },
     "execution_count": 18,
     "metadata": {},
     "output_type": "execute_result"
    }
   ],
   "source": [
    "for i in range(51):\n",
    "    cap_0=df['modified_caption_1'][50]\n",
    "    break\n",
    "cap_0"
   ]
  },
  {
   "cell_type": "code",
   "execution_count": null,
   "metadata": {},
   "outputs": [],
   "source": []
  }
 ],
 "metadata": {
  "kernelspec": {
   "display_name": "py3.10",
   "language": "python",
   "name": "python3"
  },
  "language_info": {
   "codemirror_mode": {
    "name": "ipython",
    "version": 3
   },
   "file_extension": ".py",
   "mimetype": "text/x-python",
   "name": "python",
   "nbconvert_exporter": "python",
   "pygments_lexer": "ipython3",
   "version": "3.10.11"
  },
  "orig_nbformat": 4
 },
 "nbformat": 4,
 "nbformat_minor": 2
}
